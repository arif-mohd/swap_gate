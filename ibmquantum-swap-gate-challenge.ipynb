{
 "cells": [
  {
   "cell_type": "markdown",
   "metadata": {},
   "source": [
    "![image](dependencies/open-science-prize.png)\n",
    "\n",
    "## Better `SWAP` Gates\n",
    "\n",
    "In this notebook we will generate circuits to characterize the standard `SWAP` gate with the intention of building a better performing `SWAP` gate using Qiskit Pulse. The `SWAP` gate is a two qubit gate which `SWAP`s the states of qubit 1 with qubit 2. The standard `SWAP` gate is implemented as 3 standard `CNOT` gates, i.e. `CNOT`(q1,q2) $\\rightarrow$ `CNOT`(q2,q1) $\\rightarrow$ `CNOT`(q1,q2). It is a gate that is necessary to perform many algorithms especially for hardware platforms which have limited or fixed qubit-qubit connectivity. It thus facilitates gates between qubits that are not physically connected to one another. \n",
    "\n",
    "Unfortunately, the `SWAP` gate is a very costly gate to implement in terms of execution time and error budget, especially if gates must be performed between qubits that are very far from each other.  Therefore, improving the performance of the `SWAP` gate can improve algorithmic performance and can even boost the quantum volume of a given system.\n",
    "\n",
    "**The goal of this challenge is to come up with an improved `SWAP` gate whose fidelity is measured using interleaved randomized benchmarking which will be shown in this notebook.** You may conside using Qiskit Pulse, or work at the gate level using Qiskit's built in gates, to achieve this."
   ]
  },
  {
   "cell_type": "markdown",
   "metadata": {},
   "source": [
    "## Imports"
   ]
  },
  {
   "cell_type": "code",
   "execution_count": 27,
   "metadata": {},
   "outputs": [],
   "source": [
    "### Install Qiskit and other modules if you don't have them already\n",
    "#!pip install -r dependencies/requirements.txt --quiet"
   ]
  },
  {
   "cell_type": "markdown",
   "metadata": {},
   "source": [
    "Begin by importing the necessary packages and defining the functions we will need for the benchmarking measurements."
   ]
  },
  {
   "cell_type": "code",
   "execution_count": 28,
   "metadata": {},
   "outputs": [],
   "source": [
    "# Needed for functions\n",
    "import numpy as np\n",
    "from matplotlib import pyplot as plt\n",
    "import time\n",
    "from IPython.display import display, clear_output\n",
    "\n",
    "# Qiskit imports\n",
    "import qiskit\n",
    "from qiskit import QuantumCircuit, Aer, IBMQ\n",
    "from qiskit import transpile, schedule, assemble, execute\n",
    "from qiskit.tools.monitor import job_monitor\n",
    "import qiskit.tools.jupyter\n",
    "\n",
    "# Interleaved randomized benchmarking functions\n",
    "from qiskit.ignis.verification import randomized_benchmarking as rb\n",
    "from qiskit.ignis.verification import InterleavedRBFitter\n",
    "\n",
    "# Measurement mitigation\n",
    "from qiskit.ignis.mitigation.measurement import (complete_meas_cal,CompleteMeasFitter)\n",
    "\n",
    "# Qiskit tools for noisy simulation\n",
    "from qiskit.providers.aer import QasmSimulator\n",
    "\n",
    "# Qiskit Pulse imports\n",
    "import qiskit.pulse\n",
    "from qiskit import pulse\n",
    "from qiskit.pulse import library\n",
    "\n",
    "# Suppress warnings\n",
    "import warnings\n",
    "warnings.filterwarnings('ignore')"
   ]
  },
  {
   "cell_type": "markdown",
   "metadata": {},
   "source": [
    "## Load your provider and backend\n",
    "The target backend being used for this work is the IBM Quantum system called `ibmq_casablanca`. You will receive access to `ibm-q-community/ibmquantumawards/open-science` after registering for the Open Science Prize.\n",
    "\n",
    "However, in order to debug more quickly and avoid queues, you may consider using a simulator backend modeled after the real quantum system. This will use the noise model of `ibmq_casablanca` to do simulations. **Note that the fidelities of your measurements will generally be higher on the simulator, but the Open Science Prize is awarded for the best fidelities on the real quantum system.**"
   ]
  },
  {
   "cell_type": "code",
   "execution_count": 29,
   "metadata": {
    "scrolled": false
   },
   "outputs": [
    {
     "name": "stderr",
     "output_type": "stream",
     "text": [
      "ibmqfactory.load_account:WARNING:2021-04-17 02:11:41,467: Credentials are already in use. The existing account in the session will be replaced.\n"
     ]
    }
   ],
   "source": [
    "IBMQ.load_account()\n",
    "provider = IBMQ.get_provider(hub='ibm-q-community', group='ibmquantumawards', project='open-science')\n",
    "backend = provider.get_backend('ibmq_casablanca')"
   ]
  },
  {
   "cell_type": "markdown",
   "metadata": {},
   "source": [
    "To use simulator, uncomment the following line."
   ]
  },
  {
   "cell_type": "code",
   "execution_count": 30,
   "metadata": {},
   "outputs": [],
   "source": [
    " #backend = QasmSimulator.from_backend(provider.get_backend('ibmq_casablanca'))"
   ]
  },
  {
   "cell_type": "markdown",
   "metadata": {},
   "source": [
    "## Interleaved Randomized Benchmarking"
   ]
  },
  {
   "cell_type": "markdown",
   "metadata": {},
   "source": [
    "In the following section we use interleaved randomized benchmarking to characterize the standard `SWAP`. This method is robust to SPAM errors. We begin by finding the best `cx` gate on the device."
   ]
  },
  {
   "cell_type": "code",
   "execution_count": 31,
   "metadata": {
    "scrolled": false
   },
   "outputs": [
    {
     "name": "stdout",
     "output_type": "stream",
     "text": [
      "Qubit pair [0, 1] has cx error 0.0145\n",
      "Qubit pair [1, 0] has cx error 0.0145\n",
      "Qubit pair [1, 2] has cx error 0.0275\n",
      "Qubit pair [1, 3] has cx error 0.0087\n",
      "Qubit pair [2, 1] has cx error 0.0275\n",
      "Qubit pair [3, 1] has cx error 0.0087\n",
      "Qubit pair [3, 5] has cx error 0.0096\n",
      "Qubit pair [4, 5] has cx error 0.0083\n",
      "Qubit pair [5, 3] has cx error 0.0096\n",
      "Qubit pair [5, 4] has cx error 0.0083\n",
      "Qubit pair [5, 6] has cx error 0.0070\n",
      "Qubit pair [6, 5] has cx error 0.0070\n",
      "Best cx gate is qubit pair [5, 6] with cx error 0.0070 (0.70%)\n"
     ]
    }
   ],
   "source": [
    "coupling_map = backend.configuration().coupling_map\n",
    "gate_errors_cx = [backend.properties().gate_error('cx', qubit_pair) for qubit_pair in coupling_map]\n",
    "\n",
    "for qubit_pair, gate_error_cx in zip(coupling_map, gate_errors_cx):\n",
    "    print(\"Qubit pair {} has cx error {:.4f}\".format(qubit_pair, gate_error_cx))\n",
    "\n",
    "best_cx_error = min(gate_errors_cx)\n",
    "best_qubit_pair = coupling_map[gate_errors_cx.index(min(gate_errors_cx))]\n",
    "print(\"Best cx gate is qubit pair {} with cx error {:.4f} ({:.2f}%)\".format(best_qubit_pair, best_cx_error, best_cx_error*100))"
   ]
  },
  {
   "cell_type": "markdown",
   "metadata": {},
   "source": [
    "Then, we set up randomized benchmarking as follows. "
   ]
  },
  {
   "cell_type": "code",
   "execution_count": 32,
   "metadata": {},
   "outputs": [],
   "source": [
    "# do RB on swap gate between the qubits that have the cx gate with lowest error\n",
    "q1 = best_qubit_pair[0]\n",
    "q2 = best_qubit_pair[1]\n",
    "\n",
    "# generate the RB circuit parameters\n",
    "length_vector = np.arange(1,200,20)\n",
    "nseeds = 5\n",
    "rb_pattern = [[q1,q2]]"
   ]
  },
  {
   "cell_type": "markdown",
   "metadata": {},
   "source": [
    "### Your code goes here\n",
    "\n",
    "The below block is where your SWAP gate can be inserted in order to be characterized. The code below uses the standard implementation of a SWAP gate in Qiskit as an example."
   ]
  },
  {
   "cell_type": "code",
   "execution_count": 33,
   "metadata": {},
   "outputs": [],
   "source": [
    "# Specify the interleaved element, i.e. the gate to be characterized\n",
    "\n",
    "\n",
    "import numpy as np\n",
    "# Importing standard Qiskit libraries\n",
    "from qiskit import QuantumCircuit, transpile, Aer, IBMQ, schedule\n",
    "from qiskit.tools.jupyter import *\n",
    "from qiskit.visualization import *\n",
    "from ibm_quantum_widgets import *\n",
    "from qiskit.visualization.pulse_v2 import draw, IQXDebugging\n",
    "from qiskit.providers.aer import QasmSimulator\n",
    "from qiskit import pulse\n",
    "from qiskit.pulse import DriveChannel, ControlChannel, Play, Schedule, Waveform\n",
    "from qiskit.pulse.library import drag, GaussianSquare, Gaussian\n",
    "from qiskit.circuit import Gate\n",
    "\n",
    "##############################################################################################\n",
    "\n",
    "\n",
    "#IBMQ.load_account()\n",
    "#provider = IBMQ.get_provider(hub='ibm-q-community', group='ibmquantumawards', project='open-science')\n",
    "#backend = provider.get_backend('ibmq_casablanca')\n",
    "\n",
    "################################################################################################\n",
    "\n",
    "## load all the backend parameters for pulse\n",
    "back_defaults = backend.defaults()\n",
    "back_configuration = backend.configuration()\n",
    "back_properties = backend.properties()\n",
    "inst_map = back_defaults.instruction_schedule_map\n",
    "\n",
    "dt = back_configuration.dt\n",
    "\n",
    "#################################################################################################\n",
    "\n",
    "\n",
    "control = 6\n",
    "target = 5\n",
    "\n",
    "##################################################################################################\n",
    "\n",
    "\n",
    "\n",
    "\n",
    "# extracting the pre_CR instructions\n",
    "cx_schedule = inst_map.get(\"cx\", qubits=[control, target])\n",
    "pre_instructions = cx_schedule.instructions[0:3]\n",
    "#assert len(cr_instructions) == 5, f\"{cr_instructions} should have 5 instructions\"\n",
    "#pre_instructions\n",
    "\n",
    "#converting the pre_instructions to a schedule\n",
    "pre_schedule = Schedule()\n",
    "for (time, instruction) in pre_instructions:\n",
    "    pre_schedule = pre_schedule.insert(time, instruction)\n",
    "#draw(pre_schedule,style=IQXDebugging(), backend = backend) \n",
    "#\n",
    "\n",
    "# extracting CR(pi/4) instructions\n",
    "\n",
    "cx_schedule = inst_map.get(\"cx\", qubits=[control, target])\n",
    "cr_start_index = -1  \n",
    "for i, (_, instruction) in enumerate(cx_schedule.instructions):\n",
    "        # the Cross-Resonance within the CNOT starts with a GaussianSquare Play instruction\n",
    "        if isinstance(instruction, Play):\n",
    "            if isinstance(instruction.pulse, pulse.library.parametric_pulses.GaussianSquare):\n",
    "                cr_start_index = i\n",
    "                break  \n",
    "assert cr_start_index != -1, \"did not find the start of CR\"    \n",
    "cr_instructions = cx_schedule.instructions[cr_start_index:cr_start_index+2]\n",
    "#cr_instructions\n",
    "\n",
    "#CR(pi/8 pulse)\n",
    "subtract_width = int(cr_instructions[1][1].pulse.width/2)\n",
    "\n",
    "new_crp_pulse_duration = cr_instructions[1][1].pulse.duration - subtract_width\n",
    "new_crp_pulse_amp = cr_instructions[1][1].pulse.amp\n",
    "new_crp_pulse_sigma = cr_instructions[1][1].pulse.sigma\n",
    "new_crp_pulse_width = cr_instructions[1][1].pulse.width - subtract_width\n",
    "new_crp_pulse = GaussianSquare(duration = new_crp_pulse_duration, amp = new_crp_pulse_amp, sigma = new_crp_pulse_sigma, width = new_crp_pulse_width, name = 'new_crp_pulse') \n",
    "\n",
    "\n",
    "# CR(-pi/8) pulse\n",
    "new_crm_pulse_duration = cr_instructions[1][1].pulse.duration - subtract_width\n",
    "new_crm_pulse_amp = -cr_instructions[1][1].pulse.amp\n",
    "new_crm_pulse_sigma = cr_instructions[1][1].pulse.sigma\n",
    "new_crm_pulse_width = cr_instructions[1][1].pulse.width - subtract_width\n",
    "new_crm_pulse = GaussianSquare(duration = new_crm_pulse_duration, amp = new_crm_pulse_amp, sigma = new_crm_pulse_sigma, width = new_crm_pulse_width, name = 'new_crm_pulse') \n",
    "\n",
    "\n",
    "#active cancellation plus pulse\n",
    "new_cancelp_pulse_duration = cr_instructions[0][1].pulse.duration - subtract_width\n",
    "new_cancelp_pulse_amp = cr_instructions[0][1].pulse.amp\n",
    "new_cancelp_pulse_sigma = cr_instructions[0][1].pulse.sigma\n",
    "new_cancelp_pulse_width = cr_instructions[0][1].pulse.width - subtract_width\n",
    "new_cancelp_pulse = GaussianSquare(duration = new_cancelp_pulse_duration, amp = new_cancelp_pulse_amp, sigma = new_cancelp_pulse_sigma, width = new_cancelp_pulse_width, name = 'new_cancelp_pulse') \n",
    "\n",
    "\n",
    "\n",
    "# active cancellation minus pulse\n",
    "new_cancelm_pulse_duration = cr_instructions[0][1].pulse.duration - subtract_width\n",
    "new_cancelm_pulse_amp = -cr_instructions[0][1].pulse.amp\n",
    "new_cancelm_pulse_sigma = cr_instructions[0][1].pulse.sigma\n",
    "new_cancelm_pulse_width = cr_instructions[0][1].pulse.width - subtract_width\n",
    "new_cancelm_pulse = GaussianSquare(duration = new_cancelm_pulse_duration, amp = new_cancelm_pulse_amp, sigma = new_cancelm_pulse_sigma, width = new_cancelm_pulse_width, name = 'new_cancelm_pulse') \n",
    "\n",
    "\n",
    "\n",
    "#creating the x_pulse for control qubit\n",
    "x_schedule= inst_map.get('x', qubits=[control])\n",
    "x_pulse_control = x_schedule.instructions[0][1].pulse\n",
    "\n",
    "\n",
    "#creating the x_pulse for target qubit\n",
    "x_schedule = inst_map.get('x', qubits=[target])\n",
    "x_pulse_target = x_schedule.instructions[0][1].pulse\n",
    "\n",
    "\n",
    "# build a cr(-pi/2) from cr(-pi/8) schedule \n",
    "\n",
    "with pulse.build(backend,name='CrossResonance') as cr_schedule:\n",
    "    \n",
    "    control_qubit_driveChannel = pulse.drive_channel(control) \n",
    "    target_qubit_driveChannel = pulse.drive_channel(target)\n",
    "    control_channel = cr_instructions[1][1].channel\n",
    "    \n",
    "    pulse.play(x_pulse_control,control_qubit_driveChannel)\n",
    "    \n",
    "    pulse.delay(x_pulse_control.duration,control_channel)\n",
    "    pulse.delay(x_pulse_control.duration,target_qubit_driveChannel)\n",
    "    \n",
    "    pulse.play(new_crp_pulse,control_channel) \n",
    "    pulse.play(new_cancelp_pulse,target_qubit_driveChannel)\n",
    "    \n",
    "    pulse.delay(new_crp_pulse.duration,control_qubit_driveChannel)\n",
    "    \n",
    "    pulse.play(x_pulse_control,control_qubit_driveChannel)\n",
    "    \n",
    "    pulse.delay(x_pulse_control.duration,control_channel)\n",
    "    pulse.delay(x_pulse_control.duration,target_qubit_driveChannel)\n",
    "    \n",
    "    pulse.play(new_crm_pulse,control_channel)\n",
    "    pulse.play(new_cancelm_pulse,target_qubit_driveChannel)\n",
    "    \n",
    "    pulse.delay(new_crm_pulse.duration,control_qubit_driveChannel)\n",
    "    \n",
    "    pulse.play(x_pulse_control,control_qubit_driveChannel)\n",
    "    \n",
    "    pulse.delay(x_pulse_control.duration,control_channel)\n",
    "    pulse.delay(x_pulse_control.duration,target_qubit_driveChannel)\n",
    "    \n",
    "    pulse.play(new_crp_pulse,control_channel) \n",
    "    pulse.play(new_cancelp_pulse,target_qubit_driveChannel)\n",
    "    \n",
    "    pulse.delay(new_crp_pulse.duration,control_qubit_driveChannel)\n",
    "    \n",
    "    pulse.play(x_pulse_control,control_qubit_driveChannel)\n",
    "    \n",
    "    pulse.delay(x_pulse_control.duration,control_channel)\n",
    "    pulse.delay(x_pulse_control.duration,target_qubit_driveChannel)\n",
    "    \n",
    "    pulse.play(new_crm_pulse,control_channel)\n",
    "    pulse.play(new_cancelm_pulse,target_qubit_driveChannel)\n",
    "    \n",
    "    \n",
    "#draw(cr_schedule, style=IQXDebugging(), backend = backend)    \n",
    "\n",
    "# build a cnot schedule\n",
    "\n",
    "cnot_schedule = Schedule()\n",
    "cnot_schedule = pre_schedule + cr_schedule \n",
    "    \n",
    "#draw(cnot_schedule, style=IQXDebugging(), backend = backend)    \n",
    "\n",
    "\n",
    "\n",
    "###############################################################################################################\n",
    "\n",
    "\n",
    "\n",
    "\n",
    "# Create abstract quantum gate of pulse schedule.\n",
    "cnot_gate = Gate('cnot_gate', 2,[])\n",
    "\n",
    "# Add cnot_gate to basis_gates and inst_map.\n",
    "back_configuration.basis_gates += ['cnot_gate']\n",
    "inst_map.add(cnot_gate, [control, target], cnot_schedule)\n",
    "\n",
    "\n",
    "#back_configuration.basis_gates\n",
    "\n",
    "###########################################################################################\n",
    "\n",
    "\n",
    "\n",
    "qc_swap = QuantumCircuit(2)\n",
    "qc = 1\n",
    "qt = 0\n",
    "#cnot_gate = Gate('cnot_gate', 2, [])\n",
    "qc_swap.append(cnot_gate,(qc,qt))\n",
    "qc_swap.h(qc)\n",
    "qc_swap.h(qt)\n",
    "qc_swap.append(cnot_gate,(qc,qt))\n",
    "qc_swap.h(qc)\n",
    "qc_swap.h(qt)\n",
    "qc_swap.append(cnot_gate,(qc,qt))\n",
    "\n",
    "#qc_swap.draw()\n",
    "\n",
    "############################################################################################\n",
    "\n",
    "\n",
    "\n",
    "qc_swap.add_calibration('cnot_gate',[control,target],cnot_schedule,[])\n",
    "qc_swap=transpile(qc_swap, backend = backend, optimization_level=1, initial_layout=[5,6])\n",
    "#transpiled_swap_circuit.draw()\n",
    "#qc_swap.draw()\n",
    "\n",
    "################################################################################################\n",
    "\n",
    "#qc_swap = QuantumCircuit(2)\n",
    "\n",
    "### YOUR CODE GOES HERE -- START\n",
    "\n",
    "#qc_swap.swap(0, 1)\n",
    "\n",
    "### YOUR CODE GOES HERE -- FINISH\n",
    "\n",
    "interleaved_elem = [qc_swap]"
   ]
  },
  {
   "cell_type": "markdown",
   "metadata": {},
   "source": [
    "### Benchmarking the `SWAP` gate"
   ]
  },
  {
   "cell_type": "code",
   "execution_count": 34,
   "metadata": {},
   "outputs": [
    {
     "name": "stdout",
     "output_type": "stream",
     "text": [
      "Traceback \u001b[1;36m(most recent call last)\u001b[0m:\n",
      "  File \u001b[0;32m\"<ipython-input-34-b204b8e0424a>\"\u001b[0m, line \u001b[0;32m2\u001b[0m, in \u001b[0;35m<module>\u001b[0m\n",
      "    rb_circs, xdata, circuits_interleaved = rb.randomized_benchmarking_seq(length_vector=length_vector,\n",
      "  File \u001b[0;32m\"/opt/conda/lib/python3.8/site-packages/qiskit/ignis/verification/randomized_benchmarking/circuits.py\"\u001b[0m, line \u001b[0;32m401\u001b[0m, in \u001b[0;35mrandomized_benchmarking_seq\u001b[0m\n",
      "    qlist_flat, n_q_max, max_dim = check_pattern(rb_pattern, is_purity,\n",
      "\u001b[1;36m  File \u001b[1;32m\"/opt/conda/lib/python3.8/site-packages/qiskit/ignis/verification/randomized_benchmarking/circuits.py\"\u001b[1;36m, line \u001b[1;32m121\u001b[1;36m, in \u001b[1;35mcheck_pattern\u001b[1;36m\u001b[0m\n",
      "\u001b[1;33m    raise ValueError(\"Invalid pattern for interleaved RB.\")\u001b[0m\n",
      "\u001b[1;31mValueError\u001b[0m\u001b[1;31m:\u001b[0m Invalid pattern for interleaved RB.\n",
      "\n",
      "Use %tb to get the full traceback.\n"
     ]
    },
    {
     "data": {
      "text/html": [
       "\n",
       "<style>\n",
       ".button {\n",
       "  border: none;\n",
       "  color: white;\n",
       "  padding: 4px 8px;\n",
       "  text-align: center;\n",
       "  text-decoration: none;\n",
       "  display: inline-block;\n",
       "  font-size: 12px;\n",
       "  margin: 4px 2px;\n",
       "  transition-duration: 0.2s;\n",
       "  cursor: pointer;\n",
       "}\n",
       ".iqx-button {\n",
       "  background-color: #0f62fe; \n",
       "  color: white; \n",
       "}\n",
       ".iqx-button:hover {\n",
       "  background-color: #0043ce;\n",
       "  color: white;\n",
       "}\n",
       "</style>\n",
       "<a href=\"https://stackoverflow.com/search?q=ValueError: Invalid pattern for interleaved RB.\" target='_blank'><button class='button iqx-button'>Search for solution online</button></a>\n"
      ],
      "text/plain": [
       "<IPython.core.display.HTML object>"
      ]
     },
     "metadata": {},
     "output_type": "display_data"
    }
   ],
   "source": [
    "# Generate the RB circuits\n",
    "rb_circs, xdata, circuits_interleaved = rb.randomized_benchmarking_seq(length_vector=length_vector,\n",
    "                                             nseeds=nseeds,\n",
    "                                             rb_pattern=rb_pattern,\n",
    "                                             interleaved_elem=interleaved_elem)"
   ]
  },
  {
   "cell_type": "code",
   "execution_count": 35,
   "metadata": {},
   "outputs": [
    {
     "name": "stdout",
     "output_type": "stream",
     "text": [
      "Traceback \u001b[1;36m(most recent call last)\u001b[0m:\n",
      "\u001b[1;36m  File \u001b[1;32m\"<ipython-input-35-7ed71406d238>\"\u001b[1;36m, line \u001b[1;32m6\u001b[1;36m, in \u001b[1;35m<module>\u001b[1;36m\u001b[0m\n",
      "\u001b[1;33m    for rb_seed,rb_circ_seed in enumerate(rb_circs):\u001b[0m\n",
      "\u001b[1;31mNameError\u001b[0m\u001b[1;31m:\u001b[0m name 'rb_circs' is not defined\n",
      "\n",
      "Use %tb to get the full traceback.\n"
     ]
    },
    {
     "data": {
      "text/html": [
       "\n",
       "<style>\n",
       ".button {\n",
       "  border: none;\n",
       "  color: white;\n",
       "  padding: 4px 8px;\n",
       "  text-align: center;\n",
       "  text-decoration: none;\n",
       "  display: inline-block;\n",
       "  font-size: 12px;\n",
       "  margin: 4px 2px;\n",
       "  transition-duration: 0.2s;\n",
       "  cursor: pointer;\n",
       "}\n",
       ".iqx-button {\n",
       "  background-color: #0f62fe; \n",
       "  color: white; \n",
       "}\n",
       ".iqx-button:hover {\n",
       "  background-color: #0043ce;\n",
       "  color: white;\n",
       "}\n",
       "</style>\n",
       "<a href=\"https://stackoverflow.com/search?q=NameError: name 'rb_circs' is not defined\" target='_blank'><button class='button iqx-button'>Search for solution online</button></a>\n"
      ],
      "text/plain": [
       "<IPython.core.display.HTML object>"
      ]
     },
     "metadata": {},
     "output_type": "display_data"
    }
   ],
   "source": [
    "# Execute the non-interleaved RB circuits as a reference \n",
    "shots=1000\n",
    "basis_gates = ['u1','u2','u3','cx'] # use U,CX for now\n",
    "result_list = []\n",
    "transpile_list = []\n",
    "for rb_seed,rb_circ_seed in enumerate(rb_circs):\n",
    "    print('Compiling seed %d'%rb_seed)\n",
    "    rb_circ_transpile = transpile(rb_circ_seed, basis_gates=basis_gates)\n",
    "    print('Simulating seed %d'%rb_seed)\n",
    "    job = execute(rb_circ_transpile, shots=shots, backend=backend)\n",
    "    job_monitor(job)\n",
    "    result_list.append(job.result())\n",
    "    transpile_list.append(rb_circ_transpile)    \n",
    "print(\"Finished Simulating\")"
   ]
  },
  {
   "cell_type": "code",
   "execution_count": null,
   "metadata": {},
   "outputs": [],
   "source": [
    "# Plot the non-interleaved RB results\n",
    "rbfit = rb.fitters.RBFitter(result_list[0], xdata, rb_pattern)\n",
    "\n",
    "for seed_num, data in enumerate(result_list):#range(1,len(result_list)):  \n",
    "    plt.figure(figsize=(6, 6))\n",
    "    axis = [plt.subplot(1, 1, 1)]\n",
    "    \n",
    "    # Add another seed to the data\n",
    "    rbfit.add_data([data])\n",
    "    \n",
    "    for i in range(1):\n",
    "        pattern_ind = i\n",
    "\n",
    "        # Plot the essence by calling plot_rb_data\n",
    "        rbfit.plot_rb_data(pattern_ind, ax=axis[i], add_label=True, show_plt=False)\n",
    "\n",
    "        # Add title and label\n",
    "        axis[i].set_title('2 Qubit RB - after seed %d'%(seed_num), fontsize=18)\n",
    "        \n",
    "    # Display\n",
    "    display(plt.gcf())\n",
    "    \n",
    "    # Clear display after each seed and close\n",
    "    clear_output(wait=True)\n",
    "    time.sleep(1.0)\n",
    "    plt.close()"
   ]
  },
  {
   "cell_type": "code",
   "execution_count": null,
   "metadata": {},
   "outputs": [],
   "source": [
    "# Execute the interleaved RB circuits\n",
    "shots=1000\n",
    "basis_gates = ['u1','u2','u3','cx'] # use U,CX for now\n",
    "interleaved_result_list = []\n",
    "interleaved_transpile_list = []\n",
    "for rb_seed,rb_circ_seed in enumerate(circuits_interleaved):\n",
    "    print('Compiling seed %d'%rb_seed)\n",
    "    rb_circ_transpile = transpile(rb_circ_seed, basis_gates=basis_gates)\n",
    "    print('Simulating seed %d'%rb_seed)\n",
    "    job = execute(rb_circ_transpile, shots=shots, backend=backend)\n",
    "    interleaved_result_list.append(job.result())\n",
    "    interleaved_transpile_list.append(rb_circ_transpile)    \n",
    "print(\"Finished Simulating\")"
   ]
  },
  {
   "cell_type": "code",
   "execution_count": null,
   "metadata": {},
   "outputs": [],
   "source": [
    "# Plot the interleaved RB circuit results\n",
    "rbfit = rb.fitters.RBFitter(interleaved_result_list[0], xdata, rb_pattern)\n",
    "\n",
    "for seed_num, data in enumerate(interleaved_result_list):#range(1,len(result_list)):  \n",
    "    plt.figure(figsize=(6, 6))\n",
    "    axis = [plt.subplot(1, 1, 1)]\n",
    "    \n",
    "    # Add another seed to the data\n",
    "    rbfit.add_data([data])\n",
    "    \n",
    "    for i in range(1):\n",
    "        pattern_ind = i\n",
    "\n",
    "        # Plot the essence by calling plot_rb_data\n",
    "        rbfit.plot_rb_data(pattern_ind, ax=axis[i], add_label=True, show_plt=False)\n",
    "\n",
    "        # Add title and label\n",
    "        axis[i].set_title('2 Qubit RB - after seed %d'%(seed_num), fontsize=18)\n",
    "        \n",
    "    # Display\n",
    "    display(plt.gcf())\n",
    "    \n",
    "    # Clear display after each seed and close\n",
    "    clear_output(wait=True)\n",
    "    time.sleep(1.0)\n",
    "    plt.close()"
   ]
  },
  {
   "cell_type": "code",
   "execution_count": null,
   "metadata": {},
   "outputs": [],
   "source": [
    "# Extract the interleaved results and plot\n",
    "rb_fit_interleaved = InterleavedRBFitter(result_list, interleaved_result_list, xdata, rb_pattern)"
   ]
  },
  {
   "cell_type": "code",
   "execution_count": null,
   "metadata": {},
   "outputs": [],
   "source": [
    "plt.figure(figsize=(8, 8))\n",
    "axis = [plt.subplot(1, 1, 1)]\n",
    "rb_fit_interleaved.plot_rb_data(ax=axis[0],add_label=True, show_plt=False)"
   ]
  },
  {
   "cell_type": "markdown",
   "metadata": {},
   "source": [
    "We see that the standard `SWAP` has an error of 2.047%."
   ]
  },
  {
   "cell_type": "markdown",
   "metadata": {},
   "source": [
    "## Pulse `SWAP`"
   ]
  },
  {
   "cell_type": "markdown",
   "metadata": {},
   "source": [
    "In this section we will outline the basic steps of constructing a custom gate using Qiskit Pulse which can then be characterized with the above techniques demonstrated in the above sections.\n",
    "\n",
    "First let's set up by loading the backend details for Qiskit Pulse."
   ]
  },
  {
   "cell_type": "code",
   "execution_count": null,
   "metadata": {},
   "outputs": [],
   "source": [
    "backend = provider.get_backend('ibmq_casablanca')"
   ]
  },
  {
   "cell_type": "code",
   "execution_count": null,
   "metadata": {},
   "outputs": [],
   "source": [
    "## load all the backend parameters for pulse\n",
    "back_defaults = backend.defaults()\n",
    "back_configuration = backend.configuration()\n",
    "back_properties = backend.properties()\n",
    "inst_map = back_defaults.instruction_schedule_map"
   ]
  },
  {
   "cell_type": "markdown",
   "metadata": {},
   "source": [
    "Next, let's take a look at the pulse schedule for the standard `SWAP` gate in Qiskit."
   ]
  },
  {
   "cell_type": "code",
   "execution_count": null,
   "metadata": {},
   "outputs": [],
   "source": [
    "qc_swap_transpiled = transpile(qc_swap, backend, optimization_level=1)\n",
    "sched = schedule(qc_swap_transpiled, backend, inst_map=inst_map)\n",
    "sched.draw()"
   ]
  },
  {
   "cell_type": "markdown",
   "metadata": {},
   "source": [
    "The gate is constructed by 3 `CNOT` gates where each `CNOT` consists of a 2 pulse echoed cross-resonance (CR) drive (https://arxiv.org/pdf/1603.04821.pdf) applied to the control qubit (u1 in the figure) and a on resonant 'rotary echo' (https://arxiv.org/pdf/2007.02925.pdf) applied to the target qubit. The direction of the `CNOT` can be flipped by applying hadamard gates to both qubits before and after the CR drive.\n",
    "\n",
    "You may construct a custom gate using Qiskit Pulse, following these tutorials: [[pulse instructions]](https://github.com/Qiskit/qiskit-tutorials/blob/master/tutorials/circuits_advanced/06_building_pulse_instructions.ipynb) [[pulse schedules]](https://github.com/Qiskit/qiskit-tutorials/blob/master/tutorials/circuits_advanced/07_building_pulse_schedules.ipynb)\n",
    "\n",
    "Once your gate is defined as a circuit element, drop it into this notebook above in order to see how well it performs!"
   ]
  },
  {
   "cell_type": "markdown",
   "metadata": {},
   "source": [
    "## Qiskit version"
   ]
  },
  {
   "cell_type": "code",
   "execution_count": null,
   "metadata": {},
   "outputs": [],
   "source": [
    "%qiskit_version_table"
   ]
  }
 ],
 "metadata": {
  "kernelspec": {
   "display_name": "Python 3",
   "language": "python",
   "name": "python3"
  },
  "language_info": {
   "codemirror_mode": {
    "name": "ipython",
    "version": 3
   },
   "file_extension": ".py",
   "mimetype": "text/x-python",
   "name": "python",
   "nbconvert_exporter": "python",
   "pygments_lexer": "ipython3",
   "version": "3.8.8"
  }
 },
 "nbformat": 4,
 "nbformat_minor": 4
}
